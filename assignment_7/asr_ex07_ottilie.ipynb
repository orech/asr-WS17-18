{
 "cells": [
  {
   "cell_type": "code",
   "execution_count": 16,
   "metadata": {
    "collapsed": true
   },
   "outputs": [],
   "source": [
    "# =================================================\n",
    "# Your names:\n",
    "\n",
    "\n",
    "\n",
    "# =================================================\n",
    "# Automatic Speech Recognition WS-17-18\n",
    "# Exercise 7, Task 7.2\n",
    "\n",
    "# Please make use of the functions and the variables\n",
    "# provided in this notebook when you write your answer codes.\n",
    "import matplotlib.pyplot as plt\n",
    "import numpy as np\n",
    "\n",
    "def Read(filename):\n",
    "    x_data = []\n",
    "    y_data = []\n",
    "    # Read function:\n",
    "    #   Reads the 2D data from the file path\n",
    "    #   Returns a list for each component of the data.\n",
    "    with open(filename) as f:\n",
    "        data_str = f.readlines()\n",
    "        for i in range(0, len(data_str)):\n",
    "            data_point = data_str[i].split()\n",
    "            x_data.append(float(data_point[0]))\n",
    "            y_data.append(float(data_point[1]))\n",
    "        return x_data, y_data"
   ]
  },
  {
   "cell_type": "code",
   "execution_count": 17,
   "metadata": {},
   "outputs": [
    {
     "name": "stdout",
     "output_type": "stream",
     "text": [
      "Let's see how the data look like.\n"
     ]
    },
    {
     "data": {
      "image/png": "[encoded data removed]",
      "text/plain": [
       "<matplotlib.figure.Figure at 0x7f5f242a93c8>"
      ]
     },
     "metadata": {},
     "output_type": "display_data"
    },
    {
     "name": "stdout",
     "output_type": "stream",
     "text": [
      "We can see 3 or 4 groups of points, right?\n",
      "\n",
      "We will model this data with 4 densities (L=4).\n",
      "\n",
      "Initialization done.\n",
      "Initial density:\n",
      "Mean: [4.134615384615384, 4.273076923076923]\n",
      "Variance: [3.9630325443786987, 3.3327366863905326]\n"
     ]
    }
   ],
   "source": [
    "# This is another helper code cell which introduces\n",
    "# the name of variables to be used in your solution\n",
    "# as well as the data you will use.\n",
    "# The task starts at the next cell.\n",
    "\n",
    "# Download the data from L2P and put the path here:\n",
    "data = \"./observations_ex7.data\"\n",
    "data_x, data_y = Read(data)\n",
    "\n",
    "# Visualize the data\n",
    "print(\"Let's see how the data look like.\")\n",
    "plt.scatter(data_x, data_y)\n",
    "plt.show()\n",
    "\n",
    "print(\"We can see 3 or 4 groups of points, right?\\n\")\n",
    "print(\"We will model this data with 4 densities (L=4).\\n\")\n",
    "\n",
    "# Set the hyperparameters given in the text:\n",
    "L = 4  # Maximum number of densities\n",
    "R = 10  # Number of iterations\n",
    "eps_u = [0.1, 0.1]  # Vector: epsilon * u\n",
    "\n",
    "# Number of data points:\n",
    "N = len(data_x)\n",
    "\n",
    "# Compute the initial mean\n",
    "init_mean = [0.,0.]\n",
    "for i in range(0,N):\n",
    "    init_mean[0] += float(data_x[i])\n",
    "    init_mean[1] += float(data_y[i])\n",
    "init_mean[0] *= 1./float(N)\n",
    "init_mean[1] *= 1./float(N)\n",
    "\n",
    "# Compute the initial variance\n",
    "init_var = [0., 0.]\n",
    "for i in range(0,N):\n",
    "    init_var[0] += (data_x[i]-init_mean[0])*(data_x[i]-init_mean[0])\n",
    "    init_var[1] += (data_y[i]-init_mean[1])*(data_y[i]-init_mean[1])\n",
    "init_var[0] *= 1./float(N)\n",
    "init_var[1] *= 1./float(N)\n",
    "\n",
    "def Init():\n",
    "    # Add the initial density to the list.\n",
    "    global Mean\n",
    "    Mean = []  # Mean is a list in which Mean[l] stores the mean vector for the density l.\n",
    "    Mean.append(init_mean)\n",
    "    \n",
    "    global Var\n",
    "    Var = init_var  # Pooled variance.\n",
    "    \n",
    "    global p_l\n",
    "    p_l = []  # Array to store p(l) (cf. the notation given in the sheet).\n",
    "    p_l.append(1)\n",
    "\n",
    "    global N_l  # Array to store N_l (cf. the notation given in the sheet).\n",
    "    N_l = np.zeros([L])  \n",
    "    N_l = list(N_l)\n",
    "    N_l[0] = N\n",
    "    \n",
    "    global A  # Array to store the membership of each point.\n",
    "    A = np.zeros([N], dtype=np.int32)\n",
    "    A = list(A)\n",
    "    print('Initialization done.')\n",
    "\n",
    "Init()\n",
    "print('Initial density:')\n",
    "print('Mean:', Mean[0])\n",
    "print('Variance:', Var)"
   ]
  },
  {
   "cell_type": "code",
   "execution_count": 18,
   "metadata": {
    "collapsed": true,
    "scrolled": true
   },
   "outputs": [],
   "source": [
    "#   Functions for (a)\n",
    "def Gaussian(x, mean, var):\n",
    "    # Returns p(x|l) (cf. the notation given in the sheet)\n",
    "    # You can use for example np.exp for the exponential\n",
    "    # For the number 'pi', you can e.g. use 'np.pi'\n",
    "    # TODO You code here \n",
    "\n",
    "    prefix=1/(2*np.pi*np.sqrt(var[0])*np.sqrt(var[1]))\n",
    "    expo=(x[0]-mean[0])*(x[0]-mean[0])/var[0]+(x[1]-mean[1])*(x[1]-mean[1])/var[1]\n",
    "    result=prefix*np.exp(-1/2*expo)\n",
    "    return result\n",
    "\n",
    "\n",
    "def Assign(K):\n",
    "    # Update the membership of each points\n",
    "    # (list A introduced in the previous cell)\n",
    "    # K: current number of densities\n",
    "    # TODO You code here\n",
    "    for i in range(0,N):\n",
    "        temp=0\n",
    "        k=0\n",
    "        for k in range(0,K):\n",
    "            if Gaussian([data_x[i],data_y[i]],Mean[k],Var)>temp:\n",
    "                temp=Gaussian([data_x[i],data_y[i]],Mean[k],Var)\n",
    "                assign=k\n",
    "        A[i]=assign\n",
    "    return A\n",
    "\n"
   ]
  },
  {
   "cell_type": "code",
   "execution_count": 19,
   "metadata": {
    "collapsed": true
   },
   "outputs": [],
   "source": [
    "# Function for (c)\n",
    "def EstimateParameters(K):\n",
    "    # Re-estimate the means and variances for all densities\n",
    "    # K: current number of densities\n",
    "    # TODO You code here\n",
    "    for i in range (0,L):\n",
    "        N_l[i]=0\n",
    "    \n",
    "    _mean = np.zeros([N,2])\n",
    "    _var = np.zeros(2)\n",
    "    for i in range(0,N):\n",
    "        for k in range (0,K):\n",
    "            if A[i]==k :\n",
    "                _mean[k][0] += float(data_x[i])  \n",
    "                _mean[k][1] += float(data_y[i]) \n",
    "                N_l[k]=N_l[k]+1\n",
    "     \n",
    "  \n",
    "    for k in range (0,K):\n",
    "        _mean[k][0]*= 1./float(N_l[k])\n",
    "        _mean[k][1]*= 1./float(N_l[k])\n",
    "        Mean[k]=[_mean[k][0],_mean[k][1]]\n",
    "        \n",
    "    \n",
    "    for i in range(0,N):\n",
    "        for k in range (0,K):\n",
    "            if A[i]==k :\n",
    "                _var[0] += (data_x[i]-_mean[k][0])*(data_x[i]-_mean[k][0])\n",
    "                _var[1] += (data_y[i]-_mean[k][1])*(data_y[i]-_mean[k][1])            \n",
    "    _var[0] *= 1./float(N)\n",
    "    _var[1] *= 1./float(N)\n",
    "    Var=[_var[0],_var[1]]\n",
    "           \n",
    "    return 0"
   ]
  },
  {
   "cell_type": "code",
   "execution_count": 20,
   "metadata": {
    "collapsed": true
   },
   "outputs": [],
   "source": [
    "# Functions for (d)\n",
    "def FindMinLogLike(K):\n",
    "    # Return the index of the density with the lowest likelihood.\n",
    "    # TODO You code here\n",
    "    log_value=[]\n",
    "    for i in range (0,K):\n",
    "        log_value.append(0)\n",
    "        for j in range (0,N):\n",
    "            if A[j]==i:\n",
    "                coeff=1\n",
    "            else :\n",
    "                coeff=0\n",
    "            log_value[i]+=coeff*np.log(p_l[i]*Gaussian([data_x[j],data_y[j]], Mean[i], Var)) \n",
    "    \n",
    "    return log_value.index(min(log_value))\n",
    "\n",
    "def SplitDensity(l):\n",
    "    # Split the density l.\n",
    "    # If needed: When you have a list L, you can use L.pop(n) to remove the\n",
    "    # element in position n of the list L.\n",
    "    # TODO You code here\n",
    "    split_index=FindMinLogLike(l)\n",
    "    \n",
    "    Mean[split_index]=[Mean[split_index][0]-0.1,Mean[split_index][1]-0.1]\n",
    "    Mean.append([Mean[split_index][0]+0.1,Mean[split_index][1]+0.1])\n",
    "    \n",
    "    return 0"
   ]
  },
  {
   "cell_type": "code",
   "execution_count": 21,
   "metadata": {},
   "outputs": [
    {
     "name": "stdout",
     "output_type": "stream",
     "text": [
      "Initialization done.\n",
      "The mean is as follows:\n",
      "[[2.0499999999999998, 1.8999999999999999], [5.0611111111111109, 5.3277777777777766]]\n",
      "The variance is as follows: \n",
      "[3.9630325443786987, 3.3327366863905326]\n",
      "The membership for each split iteration is as follows:\n",
      "[0, 0, 0, 0, 1, 0, 0, 0, 1, 1, 0, 1, 1, 1, 1, 1, 1, 1, 1, 1, 1, 1, 1, 1, 1, 1]\n"
     ]
    }
   ],
   "source": [
    "Init()\n",
    "# Apply the algorithm to the data.\n",
    "# Report the mean, variance and membership for each split iteration.\n",
    "\n",
    "\n",
    "SplitDensity(1)\n",
    "for i in range(0,R):    \n",
    "    Assign(2)  \n",
    "    EstimateParameters(2)\n",
    "\n",
    "\n",
    "print(\"The mean is as follows:\")\n",
    "print(Mean)\n",
    "print(\"The variance is as follows: \")\n",
    "print(Var)\n",
    "print(\"The membership for each split iteration is as follows:\")\n",
    "print(A)\n",
    "# TODO You code here\n",
    "\n",
    "\n",
    "# Checkpoint: after the first split, you should get the following:\n",
    "# Mean: [[5.06, 5.33], [2.05, 1.90]]\n",
    "# Var: [3.96, 3.33]\n",
    "# Membership: [1, 1, 1, 1, 0, 1, 1, 1, 0, 0, 1, 0, 0, 0, 0, 0, 0, 0, 0, 0, 0, 0, 0, 0, 0, 0]"
   ]
  },
  {
   "cell_type": "code",
   "execution_count": 7,
   "metadata": {},
   "outputs": [
    {
     "data": {
      "image/png": "[encoded data removed]",
      "text/plain": [
       "<matplotlib.figure.Figure at 0x1f4e685f080>"
      ]
     },
     "metadata": {},
     "output_type": "display_data"
    }
   ],
   "source": [
    "# Visualization of the split you obtained\n",
    "\n",
    "# This cell is a helper to show you an example method to plot\n",
    "# data points with different colors.\n",
    "\n",
    "split_example = [1, 1, 1, 1, 0, 1, 1, 1, 0, 0, 1, 0, 0, 0, 0, 0, 0, 0, 0, 0, 0, 0, 0, 0, 0, 0]\n",
    "Colors = ['b', 'r', 'y', 'm']  # blue, red, yellow, magenta. No need to modify this list.\n",
    "\n",
    "color = [Colors[split_example[i]] for i in range(0, N)]  # List of the color for each data point.\n",
    "plt.scatter(data_x, data_y, c=color)  # 'c' argument to provide the color for each point as a list.\n",
    "plt.show()\n",
    "\n",
    "# You will use the next cells below to plot your own results."
   ]
  },
  {
   "cell_type": "code",
   "execution_count": 8,
   "metadata": {},
   "outputs": [
    {
     "name": "stdout",
     "output_type": "stream",
     "text": [
      "Split 0\n"
     ]
    },
    {
     "data": {
      "image/png": "[encoded data removed]",
      "text/plain": [
       "<matplotlib.figure.Figure at 0x1f4e6ee6240>"
      ]
     },
     "metadata": {},
     "output_type": "display_data"
    }
   ],
   "source": [
    "# Plot for the last question\n",
    "# Split 0\n",
    "print(\"Split 0\")\n",
    "plt.scatter(data_x, data_y)\n",
    "plt.show()\n",
    "# TODO You code here"
   ]
  },
  {
   "cell_type": "code",
   "execution_count": 9,
   "metadata": {},
   "outputs": [
    {
     "name": "stdout",
     "output_type": "stream",
     "text": [
      "Split 1\n",
      "Initialization done.\n",
      "The mean is as follows:\n",
      "[[2.0499999999999998, 1.8999999999999999], [5.0611111111111109, 5.3277777777777766]]\n",
      "The variance is as follows: \n",
      "[3.9630325443786987, 3.3327366863905326]\n",
      "The membership for each split iteration is as follows:\n",
      "[0, 0, 0, 0, 1, 0, 0, 0, 1, 1, 0, 1, 1, 1, 1, 1, 1, 1, 1, 1, 1, 1, 1, 1, 1, 1]\n"
     ]
    },
    {
     "data": {
      "image/png": "[encoded data removed]",
      "text/plain": [
       "<matplotlib.figure.Figure at 0x1f4e6d82160>"
      ]
     },
     "metadata": {},
     "output_type": "display_data"
    }
   ],
   "source": [
    "# Plot for the last question\n",
    "# Split 1\n",
    "print(\"Split 1\")\n",
    "# TODO You code here\n",
    "Init()\n",
    "SplitDensity(1)\n",
    "for i in range(0,R):    \n",
    "    Assign(2)  \n",
    "    EstimateParameters(2)\n",
    "\n",
    "print(\"The mean is as follows:\")\n",
    "print(Mean)\n",
    "print(\"The variance is as follows: \")\n",
    "print(Var)\n",
    "print(\"The membership for each split iteration is as follows:\")\n",
    "print(A)\n",
    "\n",
    "Colors = ['b', 'r', 'y', 'm']  # blue, red, yellow, magenta. No need to modify this list.\n",
    "\n",
    "color = [Colors[A[i]] for i in range(0, N)]  # List of the color for each data point.\n",
    "plt.scatter(data_x, data_y, c=color)  # 'c' argument to provide the color for each point as a list.\n",
    "plt.show()\n",
    "\n",
    "\n"
   ]
  },
  {
   "cell_type": "code",
   "execution_count": 10,
   "metadata": {},
   "outputs": [
    {
     "name": "stdout",
     "output_type": "stream",
     "text": [
      "Split 2\n",
      "The mean is as follows:\n",
      "[[2.0499999999999998, 1.8999999999999999], [2.8166666666666664, 6.3833333333333329], [6.1833333333333345, 4.7999999999999998]]\n",
      "The variance is as follows: \n",
      "[3.9630325443786987, 3.3327366863905326]\n",
      "The membership for each split iteration is as follows:\n",
      "[0, 0, 0, 0, 1, 0, 0, 0, 1, 1, 0, 1, 1, 1, 2, 2, 2, 2, 2, 2, 2, 2, 2, 2, 2, 2]\n"
     ]
    },
    {
     "data": {
      "image/png": "[encoded data removed]",
      "text/plain": [
       "<matplotlib.figure.Figure at 0x1f4e6f71fd0>"
      ]
     },
     "metadata": {},
     "output_type": "display_data"
    }
   ],
   "source": [
    "# Plot for the last question\n",
    "# Split 2\n",
    "print(\"Split 2\")\n",
    "# TODO You code here\n",
    "p_l.append(0)\n",
    "p_l[0]=N_l[0]/N\n",
    "p_l[1]=N_l[1]/N\n",
    "\n",
    "SplitDensity(2)\n",
    "for i in range(0,R):    \n",
    "    Assign(3)  \n",
    "    EstimateParameters(3)\n",
    "\n",
    "print(\"The mean is as follows:\")\n",
    "print(Mean)\n",
    "print(\"The variance is as follows: \")\n",
    "print(Var)\n",
    "print(\"The membership for each split iteration is as follows:\")\n",
    "print(A)\n",
    "\n",
    "Colors = ['b', 'r', 'y', 'm']  # blue, red, yellow, magenta. No need to modify this list.\n",
    "\n",
    "color = [Colors[A[i]] for i in range(0, N)]  # List of the color for each data point.\n",
    "plt.scatter(data_x, data_y, c=color)  # 'c' argument to provide the color for each point as a list.\n",
    "plt.show()\n",
    "\n",
    "\n",
    "\n"
   ]
  },
  {
   "cell_type": "code",
   "execution_count": 11,
   "metadata": {},
   "outputs": [
    {
     "name": "stdout",
     "output_type": "stream",
     "text": [
      "Split 3\n",
      "Split 2\n",
      "The mean is as follows:\n",
      "[[2.0499999999999998, 1.8999999999999999], [2.8166666666666664, 6.3833333333333329], [5.7666666666666666, 4.0666666666666664], [6.5999999999999996, 5.5333333333333323]]\n",
      "The variance is as follows: \n",
      "[3.9630325443786987, 3.3327366863905326]\n",
      "The membership for each split iteration is as follows:\n",
      "[0, 0, 0, 0, 1, 0, 0, 0, 1, 1, 0, 1, 1, 1, 2, 2, 2, 2, 2, 3, 3, 3, 2, 3, 3, 3]\n"
     ]
    },
    {
     "data": {
      "image/png": "[encoded data removed]",
      "text/plain": [
       "<matplotlib.figure.Figure at 0x1f4e6f57c50>"
      ]
     },
     "metadata": {},
     "output_type": "display_data"
    }
   ],
   "source": [
    "# Plot for the last question\n",
    "# Split 3\n",
    "print(\"Split 3\")\n",
    "\n",
    "# TODO You code here\n",
    "p_l.append(0)\n",
    "p_l[0]=N_l[0]/N\n",
    "p_l[1]=N_l[1]/N\n",
    "p_l[2]=N_l[2]/N\n",
    "\n",
    "SplitDensity(3)\n",
    "for i in range(0,R):    \n",
    "    Assign(4)  \n",
    "    EstimateParameters(4)\n",
    "\n",
    "print(\"The mean is as follows:\")\n",
    "print(Mean)\n",
    "print(\"The variance is as follows: \")\n",
    "print(Var)\n",
    "print(\"The membership for each split iteration is as follows:\")\n",
    "print(A)\n",
    "\n",
    "Colors = ['b', 'r', 'y', 'm']  # blue, red, yellow, magenta. No need to modify this list.\n",
    "\n",
    "color = [Colors[A[i]] for i in range(0, N)]  # List of the color for each data point.\n",
    "plt.scatter(data_x, data_y, c=color)  # 'c' argument to provide the color for each point as a list.\n",
    "plt.show()\n",
    "# TODO You code here"
   ]
  },
  {
   "cell_type": "code",
   "execution_count": 12,
   "metadata": {
    "collapsed": true
   },
   "outputs": [],
   "source": [
    "# End of the exercise 7.2"
   ]
  }
 ],
 "metadata": {
  "kernelspec": {
   "display_name": "Python 3",
   "language": "python",
   "name": "python3"
  },
  "language_info": {
   "codemirror_mode": {
    "name": "ipython",
    "version": 3
   },
   "file_extension": ".py",
   "mimetype": "text/x-python",
   "name": "python",
   "nbconvert_exporter": "python",
   "pygments_lexer": "ipython3",
   "version": "3.6.3"
  }
 },
 "nbformat": 4,
 "nbformat_minor": 2
}
