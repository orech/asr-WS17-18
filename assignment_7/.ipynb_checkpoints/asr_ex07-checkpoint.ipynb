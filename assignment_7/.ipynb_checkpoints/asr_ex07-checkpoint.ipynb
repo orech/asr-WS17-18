{
 "cells": [
  {
   "cell_type": "code",
   "execution_count": 438,
   "metadata": {},
   "outputs": [],
   "source": [
    "# =================================================\n",
    "# Your names:\n",
    "\n",
    "\n",
    "\n",
    "\n",
    "\n",
    "# =================================================\n",
    "# Automatic Speech Recognition WS-17-18\n",
    "# Exercise 7, Task 7.2\n",
    "\n",
    "# Please make use of the functions and the variables\n",
    "# provided in this notebook when you write your answer codes.\n",
    "import matplotlib.pyplot as plt\n",
    "import numpy as np\n",
    "from math import log\n",
    "import sys\n",
    "\n",
    "def Read(filename):\n",
    "    x_data = []\n",
    "    y_data = []\n",
    "    # Read function:\n",
    "    #   Reads the 2D data from the file path\n",
    "    #   Returns a list for each component of the data.\n",
    "    with open(filename) as f:\n",
    "        data_str = f.readlines()\n",
    "        for i in range(0, len(data_str)):\n",
    "            data_point = data_str[i].split()\n",
    "            x_data.append(float(data_point[0]))\n",
    "            y_data.append(float(data_point[1]))\n",
    "        return x_data, y_data"
   ]
  },
  {
   "cell_type": "code",
   "execution_count": 439,
   "metadata": {},
   "outputs": [
    {
     "name": "stdout",
     "output_type": "stream",
     "text": [
      "Let's see how the data look like.\n"
     ]
    },
    {
     "data": {
      "image/png": "[encoded data removed]",
      "text/plain": [
       "<matplotlib.figure.Figure at 0x7fb9fec6e1d0>"
      ]
     },
     "metadata": {},
     "output_type": "display_data"
    },
    {
     "name": "stdout",
     "output_type": "stream",
     "text": [
      "We can see 3 or 4 groups of points, right?\n",
      "\n",
      "We will model this data with 4 densities (L=4).\n",
      "\n",
      "[103.03884615384617, 86.65115384615385]\n",
      "Initialization done.\n",
      "Initial density:\n",
      "Mean: [4.134615384615384, 4.273076923076923]\n",
      "Variance: [3.9630325443786987, 3.3327366863905326]\n"
     ]
    }
   ],
   "source": [
    "# This is another helper code cell which introduces\n",
    "# the name of variables to be used in your solution\n",
    "# as well as the data you will use.\n",
    "# The task starts at the next cell.\n",
    "\n",
    "# Download the data from L2P and put the path here:\n",
    "data = \"./observations_ex7.data\"\n",
    "data_x, data_y = Read(data)\n",
    "\n",
    "# Visualize the data\n",
    "print(\"Let's see how the data look like.\")\n",
    "plt.scatter(data_x, data_y)\n",
    "plt.show()\n",
    "\n",
    "print(\"We can see 3 or 4 groups of points, right?\\n\")\n",
    "print(\"We will model this data with 4 densities (L=4).\\n\")\n",
    "\n",
    "# Set the hyperparameters given in the text:\n",
    "L = 4  # Maximum number of densities\n",
    "R = 10  # Number of iterations\n",
    "eps_u = [0.1, 0.1]  # Vector: epsilon * u\n",
    "\n",
    "# Number of data points:\n",
    "N = len(data_x)\n",
    "\n",
    "# Compute the initial mean\n",
    "init_mean = [0.,0.]\n",
    "for i in range(0,N):\n",
    "    init_mean[0] += float(data_x[i])\n",
    "    init_mean[1] += float(data_y[i])\n",
    "init_mean[0] *= 1./float(N)\n",
    "init_mean[1] *= 1./float(N)\n",
    "\n",
    "# Compute the initial variance\n",
    "init_var = [0., 0.]\n",
    "for i in range(0,N):\n",
    "    init_var[0] += (data_x[i]-init_mean[0])*(data_x[i]-init_mean[0])\n",
    "    init_var[1] += (data_y[i]-init_mean[1])*(data_y[i]-init_mean[1])\n",
    "print(init_var)\n",
    "init_var[0] *= 1./float(N)\n",
    "init_var[1] *= 1./float(N)\n",
    "\n",
    "def Init():\n",
    "    # Add the initial density to the list.\n",
    "    global Mean\n",
    "    Mean = []  # Mean is a list in which Mean[l] stores the mean vector for the density l.\n",
    "    Mean.append(init_mean)\n",
    "    \n",
    "    global Var\n",
    "    Var = init_var  # Pooled variance.\n",
    "    \n",
    "    global p_l\n",
    "    p_l = []  # Array to store p(l) (cf. the notation given in the sheet).\n",
    "    p_l.append(1)\n",
    "\n",
    "    global N_l  # Array to store N_l (cf. the notation given in the sheet).\n",
    "    N_l = np.zeros([L])  \n",
    "    N_l = list(N_l)\n",
    "    N_l[0] = N\n",
    "    \n",
    "    global A  # Array to store the membership of each point.\n",
    "    A = np.zeros([N], dtype=np.int32)\n",
    "    A = list(A)\n",
    "    print('Initialization done.')\n",
    "    \n",
    "    global split_iteration\n",
    "    split_iteration = np.zeros((L, N))\n",
    "\n",
    "Init()\n",
    "print('Initial density:')\n",
    "print('Mean:', Mean[0])\n",
    "print('Variance:', Var)"
   ]
  },
  {
   "cell_type": "code",
   "execution_count": 440,
   "metadata": {},
   "outputs": [],
   "source": [
    "#   Functions for (a)\n",
    "def Gaussian(x, mean, var):\n",
    "    # Returns p(x|l) (cf. the notation given in the sheet)\n",
    "    # You can use for example np.exp for the exponential\n",
    "    # For the number 'pi', you can e.g. use 'np.pi'\n",
    "    # TODO You code here\n",
    "    exp_argument = (-0.5) * np.sum(np.divide(np.multiply((np.array(x) - np.array(mean)), (np.array(x) - np.array(mean))), np.array(var)))\n",
    "    coeffic_variable = np.full(len(var), 2.0 * np.pi) * np.array(var)\n",
    "    exp_coeffic = 1.0 / np.prod(np.sqrt(coeffic_variable)) #the case with pooled variance\n",
    "    return (np.exp(exp_argument) * exp_coeffic)\n",
    "\n",
    "def Assign(K):\n",
    "    # Update the membership of each points\n",
    "    # (list A introduced in the previous cell)\n",
    "    # K: current number of densities\n",
    "    # TODO You code here\n",
    "    curr_max = np.zeros(N)\n",
    "    for idx, val in enumerate(data_x):\n",
    "        for cl in range(K):\n",
    "            if ((p_l[cl] * Gaussian([val, data_y[idx]], Mean[cl], Var)) > curr_max[idx]):\n",
    "                curr_max[idx] = p_l[cl] * Gaussian([val, data_y[idx]], Mean[cl], Var)\n",
    "                A[idx] = cl"
   ]
  },
  {
   "cell_type": "code",
   "execution_count": 441,
   "metadata": {},
   "outputs": [],
   "source": [
    "# Function for (c)\n",
    "def EstimateParameters(K):\n",
    "    # Re-estimate the means and variances for all densities\n",
    "    # K: current number of densities\n",
    "    # TODO You code here\n",
    "    \n",
    "    for cluster in range(K):\n",
    "        one_hot = list(map(kronecker_delta, A, np.full(N, cluster)))\n",
    "        N_l[cluster] = sum(one_hot)\n",
    "        p_l[cluster] = float(N_l[cluster]) / float(N)\n",
    "        Mean[cluster][0] = np.sum(np.multiply(one_hot, data_x)) / float(N_l[cluster])\n",
    "        Mean[cluster][1] = np.sum(np.multiply(one_hot, data_y)) / float(N_l[cluster])\n",
    "        \n",
    "    var_1 = 0\n",
    "    var_2 = 0\n",
    "    for dp in range(0, N):\n",
    "        var_1 += (data_x[dp] - Mean[A[dp]][0]) ** 2\n",
    "        var_2 += (data_y[dp] - Mean[A[dp]][1]) ** 2\n",
    "    Var = [var_1, var_2]\n",
    "    Var[0] *= 1./float(N)\n",
    "    Var[1] *= 1./float(N)\n",
    "    \n",
    "\n",
    "def kronecker_delta(cur_assignment, cluster):\n",
    "    if (cluster == cur_assignment):\n",
    "        return 1\n",
    "    else:\n",
    "        return 0"
   ]
  },
  {
   "cell_type": "code",
   "execution_count": 442,
   "metadata": {},
   "outputs": [],
   "source": [
    "# Functions for (d)\n",
    "def FindMinLogLike(K):\n",
    "    # Return the index of the density with the lowest likelihood.\n",
    "    # TODO You code here\n",
    "    import sys\n",
    "    ll = [sys.float_info.max] * K\n",
    "\n",
    "    dataset = np.vstack((data_x, data_y)).T\n",
    "    cond_prob = np.fromiter((Gaussian(x, Mean[A[id_x]], Var) for id_x, x in enumerate(dataset)), np.float)\n",
    "    log_likelihood = [log(x * p_l[A[id_x]]) for id_x, x in enumerate(cond_prob)]\n",
    "    \n",
    "    for cluster in range(K):\n",
    "        one_hot = list(map(kronecker_delta, A, np.full(N, cluster)))\n",
    "        ll[cluster] = np.sum(np.multiply(one_hot, log_likelihood))\n",
    "    return ll.index(np.min(ll))\n",
    "\n",
    "\n",
    "def SplitDensity(l):\n",
    "    # Split the density l.\n",
    "    # If needed: When you have a list L, you can use L.pop(n) to remove the\n",
    "    # element in position n of the list L.\n",
    "    # TODO You code here\n",
    "    \n",
    "    mu = Mean[l]\n",
    "    Mean.pop(l)\n",
    "    Mean.append(np.array(mu) + np.array(eps_u))\n",
    "    Mean.append(np.array(mu) - np.array(eps_u))\n",
    "    \n",
    "    new_weight = p_l[l]\n",
    "    p_l.pop(l)\n",
    "    p_l.append(new_weight)\n",
    "    p_l.append(new_weight)\n",
    "    \n",
    "    N_l.pop(l)\n",
    "    N_l.append(0)\n",
    "    N_l.append(0)\n",
    "    "
   ]
  },
  {
   "cell_type": "code",
   "execution_count": 450,
   "metadata": {},
   "outputs": [
    {
     "name": "stdout",
     "output_type": "stream",
     "text": [
      "Initialization done.\n",
      "0\n",
      "Mean =  [array([ 5.06111111,  5.32777778]), array([ 2.05,  1.9 ])]\n",
      "Variance =  [3.9630325443786987, 3.3327366863905326]\n",
      "Current cluster assignment :  [1, 1, 1, 1, 0, 1, 1, 1, 0, 0, 1, 0, 0, 0, 0, 0, 0, 0, 0, 0, 0, 0, 0, 0, 0, 0]\n",
      "9\n",
      "Mean =  [array([ 2.05,  1.9 ]), array([ 6.18333333,  4.8       ]), array([ 2.81666667,  6.38333333])]\n",
      "Variance =  [3.9630325443786987, 3.3327366863905326]\n",
      "Current cluster assignment :  [0, 0, 0, 0, 2, 0, 0, 0, 2, 2, 0, 2, 2, 2, 1, 1, 1, 1, 1, 1, 1, 1, 1, 1, 1, 1]\n",
      "9\n",
      "Mean =  [array([ 2.05,  1.9 ]), array([ 2.81666667,  6.38333333]), array([ 6.6       ,  5.53333333]), array([ 5.76666667,  4.06666667])]\n",
      "Variance =  [3.9630325443786987, 3.3327366863905326]\n",
      "Current cluster assignment :  [0, 0, 0, 0, 1, 0, 0, 0, 1, 1, 0, 1, 1, 1, 3, 3, 3, 3, 3, 2, 2, 2, 3, 2, 2, 2]\n",
      "9\n",
      "Mean =  [array([ 2.81666667,  6.38333333]), array([ 6.6       ,  5.53333333]), array([ 5.76666667,  4.06666667]), array([ 2.3 ,  2.25]), array([ 1.8 ,  1.55])]\n",
      "Variance =  [3.9630325443786987, 3.3327366863905326]\n",
      "Current cluster assignment :  [4, 4, 3, 4, 0, 4, 3, 3, 0, 0, 3, 0, 0, 0, 2, 2, 2, 2, 2, 1, 1, 1, 2, 1, 1, 1]\n",
      "[[ 1.  1.  1.  1.  0.  1.  1.  1.  0.  0.  1.  0.  0.  0.  0.  0.  0.  0.\n",
      "   0.  0.  0.  0.  0.  0.  0.  0.]\n",
      " [ 0.  0.  0.  0.  2.  0.  0.  0.  2.  2.  0.  2.  2.  2.  1.  1.  1.  1.\n",
      "   1.  1.  1.  1.  1.  1.  1.  1.]\n",
      " [ 0.  0.  0.  0.  1.  0.  0.  0.  1.  1.  0.  1.  1.  1.  3.  3.  3.  3.\n",
      "   3.  2.  2.  2.  3.  2.  2.  2.]\n",
      " [ 4.  4.  3.  4.  0.  4.  3.  3.  0.  0.  3.  0.  0.  0.  2.  2.  2.  2.\n",
      "   2.  1.  1.  1.  2.  1.  1.  1.]]\n"
     ]
    }
   ],
   "source": [
    "Init()\n",
    "# Apply the algorithm to the data.\n",
    "# Report the mean, variance and membership for each split iteration.\n",
    "\n",
    "# TODO You code here\n",
    "k = 1\n",
    "iteration = 0\n",
    "while(k <= L):\n",
    "    print(iteration)\n",
    "    min_id = FindMinLogLike(k)\n",
    "    SplitDensity(min_id)\n",
    "    k += 1\n",
    "    iteration += 1\n",
    "    for iteration in range(0, R):\n",
    "        Assign(k)\n",
    "        EstimateParameters(k)\n",
    "    print(\"Mean = \", Mean)\n",
    "    print(\"Variance = \", Var)\n",
    "    print(\"Current cluster assignment : \", A)\n",
    "    split_iteration[k-2] = np.array(A)\n",
    "    \n",
    "    \n",
    "print(split_iteration)\n",
    "    \n",
    "# Checkpoint: after the first split, you should get the following:\n",
    "# Mean: [[5.06, 5.33], [2.05, 1.90]]\n",
    "# Var: [3.96, 3.33]\n",
    "# Membership: [1, 1, 1, 1, 0, 1, 1, 1, 0, 0, 1, 0, 0, 0, 0, 0, 0, 0, 0, 0, 0, 0, 0, 0, 0, 0]"
   ]
  },
  {
   "cell_type": "code",
   "execution_count": 451,
   "metadata": {},
   "outputs": [
    {
     "data": {
      "image/png": "[encoded data removed]",
      "text/plain": [
       "<matplotlib.figure.Figure at 0x7fb9fece8d68>"
      ]
     },
     "metadata": {},
     "output_type": "display_data"
    }
   ],
   "source": [
    "# Visualization of the split you obtained\n",
    "\n",
    "# This cell is a helper to show you an example method to plot\n",
    "# data points with different colors.\n",
    "\n",
    "split_example = [1, 1, 1, 1, 0, 1, 1, 1, 0, 0, 1, 0, 0, 0, 0, 0, 0, 0, 0, 0, 0, 0, 0, 0, 0, 0]\n",
    "Colors = ['b', 'r', 'y', 'm']  # blue, red, yellow, magenta. No need to modify this list.\n",
    "\n",
    "color = [Colors[split_example[i]] for i in range(0, N)]  # List of the color for each data point.\n",
    "plt.scatter(data_x, data_y, c=color)  # 'c' argument to provide the color for each point as a list.\n",
    "plt.show()\n",
    "\n",
    "# You will use the next cells below to plot your own results."
   ]
  },
  {
   "cell_type": "code",
   "execution_count": 452,
   "metadata": {},
   "outputs": [
    {
     "name": "stdout",
     "output_type": "stream",
     "text": [
      "Split 0\n",
      "[ 1.  1.  1.  1.  0.  1.  1.  1.  0.  0.  1.  0.  0.  0.  0.  0.  0.  0.\n",
      "  0.  0.  0.  0.  0.  0.  0.  0.]\n"
     ]
    },
    {
     "data": {
      "image/png": "[encoded data removed]",
      "text/plain": [
       "<matplotlib.figure.Figure at 0x7fb9fecb2c88>"
      ]
     },
     "metadata": {},
     "output_type": "display_data"
    }
   ],
   "source": [
    "# Plot for the last question\n",
    "# Split 0\n",
    "print(\"Split 0\")\n",
    "# TODO You code here\n",
    "print(split_iteration[0])\n",
    "color = [Colors[int(split_iteration[0][i])] for i in range(0, N)]  # List of the color for each data point.\n",
    "plt.scatter(data_x, data_y, c=color)  # 'c' argument to provide the color for each point as a list.\n",
    "plt.show()"
   ]
  },
  {
   "cell_type": "code",
   "execution_count": 453,
   "metadata": {},
   "outputs": [
    {
     "name": "stdout",
     "output_type": "stream",
     "text": [
      "Split 1\n",
      "[ 0.  0.  0.  0.  2.  0.  0.  0.  2.  2.  0.  2.  2.  2.  1.  1.  1.  1.\n",
      "  1.  1.  1.  1.  1.  1.  1.  1.]\n"
     ]
    },
    {
     "data": {
      "image/png": "[encoded data removed]",
      "text/plain": [
       "<matplotlib.figure.Figure at 0x7fba06eadef0>"
      ]
     },
     "metadata": {},
     "output_type": "display_data"
    }
   ],
   "source": [
    "# Plot for the last question\n",
    "# Split 1\n",
    "print(\"Split 1\")\n",
    "# TODO You code here\n",
    "print(split_iteration[1])\n",
    "color = [Colors[int(split_iteration[1][i])] for i in range(0, N)]  # List of the color for each data point.\n",
    "plt.scatter(data_x, data_y, c=color)  # 'c' argument to provide the color for each point as a list.\n",
    "plt.show()"
   ]
  },
  {
   "cell_type": "code",
   "execution_count": 454,
   "metadata": {},
   "outputs": [
    {
     "name": "stdout",
     "output_type": "stream",
     "text": [
      "Split 2\n",
      "[ 0.  0.  0.  0.  1.  0.  0.  0.  1.  1.  0.  1.  1.  1.  3.  3.  3.  3.\n",
      "  3.  2.  2.  2.  3.  2.  2.  2.]\n"
     ]
    },
    {
     "data": {
      "image/png": "[encoded data removed]",
      "text/plain": [
       "<matplotlib.figure.Figure at 0x7fb9fe8e4048>"
      ]
     },
     "metadata": {},
     "output_type": "display_data"
    }
   ],
   "source": [
    "# Plot for the last question\n",
    "# Split 2\n",
    "print(\"Split 2\")\n",
    "# TODO You code here\n",
    "print(split_iteration[2])\n",
    "color = [Colors[int(split_iteration[2][i])] for i in range(0, N)]  # List of the color for each data point.\n",
    "plt.scatter(data_x, data_y, c=color)  # 'c' argument to provide the color for each point as a list.\n",
    "plt.show()"
   ]
  },
  {
   "cell_type": "code",
   "execution_count": 458,
   "metadata": {},
   "outputs": [
    {
     "name": "stdout",
     "output_type": "stream",
     "text": [
      "Split 3\n",
      "[ 4.  4.  3.  4.  0.  4.  3.  3.  0.  0.  3.  0.  0.  0.  2.  2.  2.  2.\n",
      "  2.  1.  1.  1.  2.  1.  1.  1.]\n"
     ]
    },
    {
     "ename": "IndexError",
     "evalue": "list index out of range",
     "output_type": "error",
     "traceback": [
      "\u001b[0;31m---------------------------------------------------------------------------\u001b[0m",
      "\u001b[0;31mIndexError\u001b[0m                                Traceback (most recent call last)",
      "\u001b[0;32m<ipython-input-458-225683eabfcb>\u001b[0m in \u001b[0;36m<module>\u001b[0;34m()\u001b[0m\n\u001b[1;32m      4\u001b[0m \u001b[0;31m# TODO You code here\u001b[0m\u001b[0;34m\u001b[0m\u001b[0;34m\u001b[0m\u001b[0m\n\u001b[1;32m      5\u001b[0m \u001b[0mprint\u001b[0m\u001b[0;34m(\u001b[0m\u001b[0msplit_iteration\u001b[0m\u001b[0;34m[\u001b[0m\u001b[0;36m3\u001b[0m\u001b[0;34m]\u001b[0m\u001b[0;34m)\u001b[0m\u001b[0;34m\u001b[0m\u001b[0m\n\u001b[0;32m----> 6\u001b[0;31m \u001b[0mcolor\u001b[0m \u001b[0;34m=\u001b[0m \u001b[0;34m[\u001b[0m\u001b[0mColors\u001b[0m\u001b[0;34m[\u001b[0m\u001b[0mint\u001b[0m\u001b[0;34m(\u001b[0m\u001b[0msplit_iteration\u001b[0m\u001b[0;34m[\u001b[0m\u001b[0;36m3\u001b[0m\u001b[0;34m]\u001b[0m\u001b[0;34m[\u001b[0m\u001b[0mi\u001b[0m\u001b[0;34m]\u001b[0m\u001b[0;34m)\u001b[0m\u001b[0;34m]\u001b[0m \u001b[0;32mfor\u001b[0m \u001b[0mi\u001b[0m \u001b[0;32min\u001b[0m \u001b[0mrange\u001b[0m\u001b[0;34m(\u001b[0m\u001b[0;36m0\u001b[0m\u001b[0;34m,\u001b[0m \u001b[0mN\u001b[0m\u001b[0;34m)\u001b[0m\u001b[0;34m]\u001b[0m  \u001b[0;31m# List of the color for each data point.\u001b[0m\u001b[0;34m\u001b[0m\u001b[0m\n\u001b[0m\u001b[1;32m      7\u001b[0m \u001b[0mplt\u001b[0m\u001b[0;34m.\u001b[0m\u001b[0mscatter\u001b[0m\u001b[0;34m(\u001b[0m\u001b[0mdata_x\u001b[0m\u001b[0;34m,\u001b[0m \u001b[0mdata_y\u001b[0m\u001b[0;34m,\u001b[0m \u001b[0mc\u001b[0m\u001b[0;34m=\u001b[0m\u001b[0mcolor\u001b[0m\u001b[0;34m)\u001b[0m  \u001b[0;31m# 'c' argument to provide the color for each point as a list.\u001b[0m\u001b[0;34m\u001b[0m\u001b[0m\n\u001b[1;32m      8\u001b[0m \u001b[0mplt\u001b[0m\u001b[0;34m.\u001b[0m\u001b[0mshow\u001b[0m\u001b[0;34m(\u001b[0m\u001b[0;34m)\u001b[0m\u001b[0;34m\u001b[0m\u001b[0m\n",
      "\u001b[0;32m<ipython-input-458-225683eabfcb>\u001b[0m in \u001b[0;36m<listcomp>\u001b[0;34m(.0)\u001b[0m\n\u001b[1;32m      4\u001b[0m \u001b[0;31m# TODO You code here\u001b[0m\u001b[0;34m\u001b[0m\u001b[0;34m\u001b[0m\u001b[0m\n\u001b[1;32m      5\u001b[0m \u001b[0mprint\u001b[0m\u001b[0;34m(\u001b[0m\u001b[0msplit_iteration\u001b[0m\u001b[0;34m[\u001b[0m\u001b[0;36m3\u001b[0m\u001b[0;34m]\u001b[0m\u001b[0;34m)\u001b[0m\u001b[0;34m\u001b[0m\u001b[0m\n\u001b[0;32m----> 6\u001b[0;31m \u001b[0mcolor\u001b[0m \u001b[0;34m=\u001b[0m \u001b[0;34m[\u001b[0m\u001b[0mColors\u001b[0m\u001b[0;34m[\u001b[0m\u001b[0mint\u001b[0m\u001b[0;34m(\u001b[0m\u001b[0msplit_iteration\u001b[0m\u001b[0;34m[\u001b[0m\u001b[0;36m3\u001b[0m\u001b[0;34m]\u001b[0m\u001b[0;34m[\u001b[0m\u001b[0mi\u001b[0m\u001b[0;34m]\u001b[0m\u001b[0;34m)\u001b[0m\u001b[0;34m]\u001b[0m \u001b[0;32mfor\u001b[0m \u001b[0mi\u001b[0m \u001b[0;32min\u001b[0m \u001b[0mrange\u001b[0m\u001b[0;34m(\u001b[0m\u001b[0;36m0\u001b[0m\u001b[0;34m,\u001b[0m \u001b[0mN\u001b[0m\u001b[0;34m)\u001b[0m\u001b[0;34m]\u001b[0m  \u001b[0;31m# List of the color for each data point.\u001b[0m\u001b[0;34m\u001b[0m\u001b[0m\n\u001b[0m\u001b[1;32m      7\u001b[0m \u001b[0mplt\u001b[0m\u001b[0;34m.\u001b[0m\u001b[0mscatter\u001b[0m\u001b[0;34m(\u001b[0m\u001b[0mdata_x\u001b[0m\u001b[0;34m,\u001b[0m \u001b[0mdata_y\u001b[0m\u001b[0;34m,\u001b[0m \u001b[0mc\u001b[0m\u001b[0;34m=\u001b[0m\u001b[0mcolor\u001b[0m\u001b[0;34m)\u001b[0m  \u001b[0;31m# 'c' argument to provide the color for each point as a list.\u001b[0m\u001b[0;34m\u001b[0m\u001b[0m\n\u001b[1;32m      8\u001b[0m \u001b[0mplt\u001b[0m\u001b[0;34m.\u001b[0m\u001b[0mshow\u001b[0m\u001b[0;34m(\u001b[0m\u001b[0;34m)\u001b[0m\u001b[0;34m\u001b[0m\u001b[0m\n",
      "\u001b[0;31mIndexError\u001b[0m: list index out of range"
     ]
    }
   ],
   "source": [
    "# Plot for the last question\n",
    "# Split 3\n",
    "print(\"Split 3\")\n",
    "# TODO You code here\n",
    "print(split_iteration[3])\n",
    "color = [Colors[int(split_iteration[3][i])] for i in range(0, N)]  # List of the color for each data point.\n",
    "plt.scatter(data_x, data_y, c=color)  # 'c' argument to provide the color for each point as a list.\n",
    "plt.show()"
   ]
  },
  {
   "cell_type": "code",
   "execution_count": null,
   "metadata": {
    "collapsed": true
   },
   "outputs": [],
   "source": [
    "# End of the exercise 7.2"
   ]
  }
 ],
 "metadata": {
  "kernelspec": {
   "display_name": "Python 3",
   "language": "python",
   "name": "python3"
  },
  "language_info": {
   "codemirror_mode": {
    "name": "ipython",
    "version": 3
   },
   "file_extension": ".py",
   "mimetype": "text/x-python",
   "name": "python",
   "nbconvert_exporter": "python",
   "pygments_lexer": "ipython3",
   "version": "3.6.3"
  }
 },
 "nbformat": 4,
 "nbformat_minor": 2
}
